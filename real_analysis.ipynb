{
 "cells": [
  {
   "cell_type": "code",
   "execution_count": 53,
   "metadata": {},
   "outputs": [],
   "source": [
    "import numpy as np\n",
    "import pandas as pd\n",
    "import statistics\n",
    "# from bokeh.plotting import figure\n",
    "# from bokeh.io import show,output_notebook\n",
    "from statsmodels.stats.proportion import proportion_confint"
   ]
  },
  {
   "cell_type": "code",
   "execution_count": 42,
   "metadata": {},
   "outputs": [],
   "source": [
    "def corr_info(x, y):\n",
    "    corr = np.corrcoef(x, y)[0][1]\n",
    "    print(f\"corr: {corr}\")"
   ]
  },
  {
   "cell_type": "code",
   "execution_count": 67,
   "metadata": {},
   "outputs": [],
   "source": [
    "def summarize(arr):\n",
    "    return str(round(ppo_c.mean(), 2)) + ' ± ' + str(round(ppo_c.std(), 2))"
   ]
  },
  {
   "cell_type": "code",
   "execution_count": 68,
   "metadata": {},
   "outputs": [],
   "source": [
    "def read_ret(fname):\n",
    "    with open(fname, 'r') as f: \n",
    "        lines = f.read().splitlines() \n",
    "        for line in reversed(lines): \n",
    "            if 'AverageEpRet' in line: \n",
    "                val = float(line.split('|')[2].strip())\n",
    "                break\n",
    "    return val"
   ]
  },
  {
   "cell_type": "code",
   "execution_count": 69,
   "metadata": {},
   "outputs": [],
   "source": [
    "# def parse_run(id_, num_runs):\n",
    "id_ = 57073015\n",
    "num_runs = 4\n",
    "base_dir = \"log/\" + str(id_) + '/'\n",
    "\n",
    "\n",
    "vpg = []\n",
    "ppo_c = []\n",
    "ppo_uc = []\n",
    "\n",
    "for i in range(1, num_runs + 1):\n",
    "    vpg_i_fname = str(i) + '_vpg.out'\n",
    "    vpg_i = read_ret(base_dir + vpg_i_fname)\n",
    "    vpg.append(vpg_i)\n",
    "    \n",
    "    ppo_i_c_fname = str(i) + '_ppo_c.out'\n",
    "    ppo_i_c = read_ret(base_dir + ppo_i_c_fname)\n",
    "    ppo_c.append(ppo_i_c)\n",
    "    \n",
    "    ppo_i_uc_fname = str(i) + '_ppo_uc.out'\n",
    "    ppo_i_uc = read_ret(base_dir + ppo_i_uc_fname)\n",
    "    ppo_uc.append(ppo_i_uc)\n",
    "\n",
    "vpg = np.array(vpg)\n",
    "ppo_c = np.array(ppo_c)\n",
    "ppo_uc = np.array(ppo_uc)"
   ]
  },
  {
   "cell_type": "code",
   "execution_count": 71,
   "metadata": {},
   "outputs": [
    {
     "name": "stdout",
     "output_type": "stream",
     "text": [
      "vpg 189.5 ± 22.07\n",
      "ppo_c 189.5 ± 22.07\n",
      "ppo_uc 189.5 ± 22.07\n"
     ]
    }
   ],
   "source": [
    "print('vpg', summarize(vpg))\n",
    "print('ppo_c', summarize(ppo_c))\n",
    "print('ppo_uc', summarize(ppo_uc))"
   ]
  },
  {
   "cell_type": "code",
   "execution_count": 72,
   "metadata": {},
   "outputs": [],
   "source": [
    "delta_c = vpg - ppo_c\n",
    "delta_uc = vpg - ppo_uc"
   ]
  },
  {
   "cell_type": "code",
   "execution_count": 73,
   "metadata": {},
   "outputs": [
    {
     "name": "stdout",
     "output_type": "stream",
     "text": [
      "delta_c 189.5 ± 22.07\n",
      "delta_uc 189.5 ± 22.07\n"
     ]
    }
   ],
   "source": [
    "print('delta_c', summarize(delta_c))\n",
    "print('delta_uc', summarize(delta_uc))"
   ]
  },
  {
   "cell_type": "code",
   "execution_count": 74,
   "metadata": {},
   "outputs": [
    {
     "name": "stdout",
     "output_type": "stream",
     "text": [
      "var_c: 510.02749999999986\n",
      "var_uc: 788.8275\n",
      "var_c < var_uc ? True\n"
     ]
    }
   ],
   "source": [
    "var_c = np.var(delta_c)\n",
    "var_uc = np.var(delta_uc)\n",
    "print(f'var_c: {var_c}')\n",
    "print(f'var_uc: {var_uc}')\n",
    "print(f'var_c < var_uc ? {var_c < var_uc}')"
   ]
  },
  {
   "cell_type": "code",
   "execution_count": 75,
   "metadata": {},
   "outputs": [],
   "source": [
    "num_success = np.sum((np.abs(delta_c) < np.abs(delta_uc)))"
   ]
  },
  {
   "cell_type": "code",
   "execution_count": 76,
   "metadata": {},
   "outputs": [
    {
     "name": "stdout",
     "output_type": "stream",
     "text": [
      "num_success: 3\n",
      "num_runs: 4\n",
      "interval: (0.32565534972143556, 1.0)\n"
     ]
    }
   ],
   "source": [
    "print('num_success:', num_success)\n",
    "print('num_runs:', num_runs)\n",
    "interval = proportion_confint(num_success, num_runs)\n",
    "print('interval:', interval)"
   ]
  },
  {
   "cell_type": "code",
   "execution_count": null,
   "metadata": {},
   "outputs": [],
   "source": [
    "if interval[0] < 0.5 < interval[1]:\n",
    "    print('Failed!')\n",
    "else:\n",
    "    print('Success!')"
   ]
  }
 ],
 "metadata": {
  "kernelspec": {
   "display_name": "effect_size_variance_env",
   "language": "python",
   "name": "effect_size_variance_env"
  },
  "language_info": {
   "codemirror_mode": {
    "name": "ipython",
    "version": 3
   },
   "file_extension": ".py",
   "mimetype": "text/x-python",
   "name": "python",
   "nbconvert_exporter": "python",
   "pygments_lexer": "ipython3",
   "version": "3.6.3"
  }
 },
 "nbformat": 4,
 "nbformat_minor": 4
}
