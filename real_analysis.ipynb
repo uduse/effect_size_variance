{
 "cells": [
  {
   "cell_type": "code",
   "execution_count": 77,
   "metadata": {},
   "outputs": [],
   "source": [
    "import numpy as np\n",
    "import pandas as pd\n",
    "import statistics\n",
    "# from bokeh.plotting import figure\n",
    "# from bokeh.io import show,output_notebook\n",
    "from statsmodels.stats.proportion import proportion_confint"
   ]
  },
  {
   "cell_type": "code",
   "execution_count": 89,
   "metadata": {},
   "outputs": [],
   "source": [
    "def corr_info(x, y):\n",
    "    corr = np.corrcoef(x, y)[0][1]\n",
    "    print(f\"corr: {corr}\")"
   ]
  },
  {
   "cell_type": "code",
   "execution_count": 100,
   "metadata": {},
   "outputs": [],
   "source": [
    "def summarize(arr):\n",
    "    return str(round(arr.mean(), 2)) + ' ± ' + str(round(arr.std(), 2))"
   ]
  },
  {
   "cell_type": "code",
   "execution_count": 101,
   "metadata": {},
   "outputs": [],
   "source": [
    "def read_ret(fname):\n",
    "    with open(fname, 'r') as f: \n",
    "        lines = f.read().splitlines() \n",
    "        for line in reversed(lines): \n",
    "            if 'AverageEpRet' in line: \n",
    "                val = float(line.split('|')[2].strip())\n",
    "                break\n",
    "    return val"
   ]
  },
  {
   "cell_type": "code",
   "execution_count": 119,
   "metadata": {},
   "outputs": [
    {
     "name": "stdout",
     "output_type": "stream",
     "text": [
      "num_runs 64\n"
     ]
    }
   ],
   "source": [
    "# def parse_run(id_, num_runs):\n",
    "id_ = 57076360\n",
    "base_dir = \"log/\" + str(id_) + '/'\n",
    "with open(base_dir + 'job.sh') as f:\n",
    "    for line in f.read().splitlines():\n",
    "        if '#SBATCH --array' in line:\n",
    "            rest = line.replace('#SBATCH --array=1-', '')\n",
    "            num_runs = int(rest)\n",
    "            break\n",
    "print('num_runs', num_runs)"
   ]
  },
  {
   "cell_type": "code",
   "execution_count": 120,
   "metadata": {},
   "outputs": [],
   "source": [
    "vpg = []\n",
    "ppo_c = []\n",
    "ppo_uc = []\n",
    "\n",
    "for i in range(1, num_runs + 1):\n",
    "    vpg_i_fname = str(i) + '_vpg.out'\n",
    "    vpg_i = read_ret(base_dir + vpg_i_fname)\n",
    "    vpg.append(vpg_i)\n",
    "    \n",
    "    ppo_i_c_fname = str(i) + '_ppo_c.out'\n",
    "    ppo_i_c = read_ret(base_dir + ppo_i_c_fname)\n",
    "    ppo_c.append(ppo_i_c)\n",
    "    \n",
    "    ppo_i_uc_fname = str(i) + '_ppo_uc.out'\n",
    "    ppo_i_uc = read_ret(base_dir + ppo_i_uc_fname)\n",
    "    ppo_uc.append(ppo_i_uc)\n",
    "\n",
    "vpg = np.array(vpg)\n",
    "ppo_c = np.array(ppo_c)\n",
    "ppo_uc = np.array(ppo_uc)"
   ]
  },
  {
   "cell_type": "code",
   "execution_count": 121,
   "metadata": {},
   "outputs": [
    {
     "name": "stdout",
     "output_type": "stream",
     "text": [
      "vpg 30.68 ± 3.19\n",
      "ppo_c 474.23 ± 45.73\n",
      "ppo_uc 482.89 ± 26.36\n"
     ]
    }
   ],
   "source": [
    "print('vpg', summarize(vpg))\n",
    "print('ppo_c', summarize(ppo_c))\n",
    "print('ppo_uc', summarize(ppo_uc))"
   ]
  },
  {
   "cell_type": "code",
   "execution_count": 122,
   "metadata": {},
   "outputs": [],
   "source": [
    "delta_c = vpg - ppo_c\n",
    "delta_uc = vpg - ppo_uc"
   ]
  },
  {
   "cell_type": "code",
   "execution_count": 123,
   "metadata": {},
   "outputs": [
    {
     "name": "stdout",
     "output_type": "stream",
     "text": [
      "delta_c -443.56 ± 45.93\n",
      "delta_uc -452.21 ± 27.07\n"
     ]
    }
   ],
   "source": [
    "print('delta_c', summarize(delta_c))\n",
    "print('delta_uc', summarize(delta_uc))"
   ]
  },
  {
   "cell_type": "code",
   "execution_count": 124,
   "metadata": {},
   "outputs": [
    {
     "name": "stdout",
     "output_type": "stream",
     "text": [
      "var_c: 2109.419001464844\n",
      "var_uc: 732.6843334960938\n",
      "var_c < var_uc ? False\n"
     ]
    }
   ],
   "source": [
    "var_c = np.var(delta_c)\n",
    "var_uc = np.var(delta_uc)\n",
    "print(f'var_c: {var_c}')\n",
    "print(f'var_uc: {var_uc}')\n",
    "print(f'var_c < var_uc ? {var_c < var_uc}')"
   ]
  },
  {
   "cell_type": "code",
   "execution_count": 125,
   "metadata": {},
   "outputs": [],
   "source": [
    "num_success = np.sum((np.abs(delta_c) < np.abs(delta_uc)))"
   ]
  },
  {
   "cell_type": "code",
   "execution_count": 126,
   "metadata": {},
   "outputs": [
    {
     "name": "stdout",
     "output_type": "stream",
     "text": [
      "num_success: 27\n",
      "num_runs: 64\n",
      "interval: (0.30088182475092407, 0.5428681752490759)\n"
     ]
    }
   ],
   "source": [
    "print('num_success:', num_success)\n",
    "print('num_runs:', num_runs)\n",
    "interval = proportion_confint(num_success, num_runs)\n",
    "print('interval:', interval)"
   ]
  },
  {
   "cell_type": "code",
   "execution_count": 127,
   "metadata": {},
   "outputs": [
    {
     "name": "stdout",
     "output_type": "stream",
     "text": [
      "Failed!\n"
     ]
    }
   ],
   "source": [
    "if interval[0] < 0.5 < interval[1]:\n",
    "    print('Failed!')\n",
    "else:\n",
    "    print('Success!')"
   ]
  },
  {
   "cell_type": "code",
   "execution_count": null,
   "metadata": {},
   "outputs": [],
   "source": []
  }
 ],
 "metadata": {
  "kernelspec": {
   "display_name": "effect_size_variance_env",
   "language": "python",
   "name": "effect_size_variance_env"
  },
  "language_info": {
   "codemirror_mode": {
    "name": "ipython",
    "version": 3
   },
   "file_extension": ".py",
   "mimetype": "text/x-python",
   "name": "python",
   "nbconvert_exporter": "python",
   "pygments_lexer": "ipython3",
   "version": "3.6.3"
  }
 },
 "nbformat": 4,
 "nbformat_minor": 4
}
