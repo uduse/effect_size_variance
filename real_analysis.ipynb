{
 "cells": [
  {
   "cell_type": "code",
   "execution_count": 1,
   "metadata": {},
   "outputs": [],
   "source": [
    "import numpy as np\n",
    "import pandas as pd\n",
    "import statistics\n",
    "# from bokeh.plotting import figure\n",
    "# from bokeh.io import show,output_notebook\n",
    "from statsmodels.stats.proportion import proportion_confint"
   ]
  },
  {
   "cell_type": "code",
   "execution_count": 2,
   "metadata": {},
   "outputs": [],
   "source": [
    "def corr_info(x, y):\n",
    "    corr = np.corrcoef(x, y)[0][1]\n",
    "    print(f\"corr: {corr}\")"
   ]
  },
  {
   "cell_type": "code",
   "execution_count": 3,
   "metadata": {},
   "outputs": [],
   "source": [
    "def summarize(arr):\n",
    "    return str(round(arr.mean(), 2)) + ' ± ' + str(round(arr.std(), 2))"
   ]
  },
  {
   "cell_type": "code",
   "execution_count": 4,
   "metadata": {},
   "outputs": [],
   "source": [
    "def read_ret(fname):\n",
    "    with open(fname, 'r') as f: \n",
    "        lines = f.read().splitlines() \n",
    "        for line in reversed(lines): \n",
    "            if 'AverageEpRet' in line: \n",
    "                val = float(line.split('|')[2].strip())\n",
    "                break\n",
    "    return val"
   ]
  },
  {
   "cell_type": "code",
   "execution_count": 5,
   "metadata": {},
   "outputs": [
    {
     "name": "stdout",
     "output_type": "stream",
     "text": [
      "num_runs 2\n"
     ]
    }
   ],
   "source": [
    "# def parse_run(id_, num_runs):\n",
    "id_ = 57144975\n",
    "base_dir = \"log/\" + str(id_) + '/'\n",
    "with open(base_dir + 'job.sh') as f:\n",
    "    for line in f.read().splitlines():\n",
    "        if '#SBATCH --array' in line:\n",
    "            rest = line.replace('#SBATCH --array=1-', '')\n",
    "            num_runs = int(rest)\n",
    "            break\n",
    "print('num_runs', num_runs)"
   ]
  },
  {
   "cell_type": "code",
   "execution_count": 6,
   "metadata": {},
   "outputs": [
    {
     "ename": "FileNotFoundError",
     "evalue": "[Errno 2] No such file or directory: 'log/57144975/1_vpg.out'",
     "output_type": "error",
     "traceback": [
      "\u001b[1;31m---------------------------------------------------------------------------\u001b[0m",
      "\u001b[1;31mFileNotFoundError\u001b[0m                         Traceback (most recent call last)",
      "\u001b[1;32m<ipython-input-6-966d7d152833>\u001b[0m in \u001b[0;36m<module>\u001b[1;34m\u001b[0m\n\u001b[0;32m      1\u001b[0m \u001b[0mfname\u001b[0m \u001b[1;33m=\u001b[0m \u001b[0mbase_dir\u001b[0m \u001b[1;33m+\u001b[0m \u001b[1;34m'1_vpg.out'\u001b[0m\u001b[1;33m\u001b[0m\u001b[0m\n\u001b[1;32m----> 2\u001b[1;33m \u001b[1;32mwith\u001b[0m \u001b[0mopen\u001b[0m\u001b[1;33m(\u001b[0m\u001b[0mfname\u001b[0m\u001b[1;33m,\u001b[0m \u001b[1;34m'r'\u001b[0m\u001b[1;33m)\u001b[0m \u001b[1;32mas\u001b[0m \u001b[0mf\u001b[0m\u001b[1;33m:\u001b[0m\u001b[1;33m\u001b[0m\u001b[0m\n\u001b[0m\u001b[0;32m      3\u001b[0m     \u001b[0mlines\u001b[0m \u001b[1;33m=\u001b[0m \u001b[0mf\u001b[0m\u001b[1;33m.\u001b[0m\u001b[0mread\u001b[0m\u001b[1;33m(\u001b[0m\u001b[1;33m)\u001b[0m\u001b[1;33m.\u001b[0m\u001b[0msplitlines\u001b[0m\u001b[1;33m(\u001b[0m\u001b[1;33m)\u001b[0m\u001b[1;33m\u001b[0m\u001b[0m\n\u001b[0;32m      4\u001b[0m     \u001b[1;32mfor\u001b[0m \u001b[0mline\u001b[0m \u001b[1;32min\u001b[0m \u001b[0mreversed\u001b[0m\u001b[1;33m(\u001b[0m\u001b[0mlines\u001b[0m\u001b[1;33m)\u001b[0m\u001b[1;33m:\u001b[0m\u001b[1;33m\u001b[0m\u001b[0m\n\u001b[0;32m      5\u001b[0m         \u001b[1;32mif\u001b[0m \u001b[1;34m'AverageEpRet'\u001b[0m \u001b[1;32min\u001b[0m \u001b[0mline\u001b[0m\u001b[1;33m:\u001b[0m\u001b[1;33m\u001b[0m\u001b[0m\n",
      "\u001b[1;31mFileNotFoundError\u001b[0m: [Errno 2] No such file or directory: 'log/57144975/1_vpg.out'"
     ]
    }
   ],
   "source": [
    "fname = base_dir + '1_vpg.out'\n",
    "with open(fname, 'r') as f: \n",
    "    lines = f.read().splitlines() \n",
    "    for line in reversed(lines): \n",
    "        if 'AverageEpRet' in line: \n",
    "            val = float(line.split('|')[2].strip())\n",
    "            break\n",
    "return val"
   ]
  },
  {
   "cell_type": "code",
   "execution_count": 24,
   "metadata": {},
   "outputs": [],
   "source": [
    "vpg = []\n",
    "ppo_c = []\n",
    "ppo_uc = []\n",
    "\n",
    "for i in range(1, num_runs + 1):\n",
    "    vpg_i_fname = str(i) + '_vpg.out'\n",
    "    vpg_i = read_ret(base_dir + vpg_i_fname)\n",
    "    vpg.append(vpg_i)\n",
    "    \n",
    "    ppo_i_c_fname = str(i) + '_ppo_c.out'\n",
    "    ppo_i_c = read_ret(base_dir + ppo_i_c_fname)\n",
    "    ppo_c.append(ppo_i_c)\n",
    "    \n",
    "    ppo_i_uc_fname = str(i) + '_ppo_uc.out'\n",
    "    ppo_i_uc = read_ret(base_dir + ppo_i_uc_fname)\n",
    "    ppo_uc.append(ppo_i_uc)\n",
    "\n",
    "vpg = np.array(vpg)\n",
    "ppo_c = np.array(ppo_c)\n",
    "ppo_uc = np.array(ppo_uc)"
   ]
  },
  {
   "cell_type": "code",
   "execution_count": 25,
   "metadata": {},
   "outputs": [
    {
     "name": "stdout",
     "output_type": "stream",
     "text": [
      "vpg 26.1 ± 1.73\n",
      "ppo_c 272.5 ± 53.81\n",
      "ppo_uc 305.88 ± 66.36\n"
     ]
    }
   ],
   "source": [
    "print('vpg', summarize(vpg))\n",
    "print('ppo_c', summarize(ppo_c))\n",
    "print('ppo_uc', summarize(ppo_uc))"
   ]
  },
  {
   "cell_type": "code",
   "execution_count": 27,
   "metadata": {},
   "outputs": [],
   "source": [
    "delta_c = vpg - ppo_c\n",
    "delta_uc = vpg - ppo_uc"
   ]
  },
  {
   "cell_type": "code",
   "execution_count": 32,
   "metadata": {},
   "outputs": [
    {
     "name": "stdout",
     "output_type": "stream",
     "text": [
      "delta_c -246.4 ± 52.88\n",
      "delta_uc -279.77 ± 67.19\n"
     ]
    }
   ],
   "source": [
    "print('delta_c', summarize(delta_c))\n",
    "print('delta_uc', summarize(delta_uc))"
   ]
  },
  {
   "cell_type": "code",
   "execution_count": 33,
   "metadata": {},
   "outputs": [
    {
     "name": "stdout",
     "output_type": "stream",
     "text": [
      "var_c: 2796.552499999999\n",
      "var_uc: 4514.636875\n",
      "var_c < var_uc ? True\n"
     ]
    }
   ],
   "source": [
    "var_c = np.var(delta_c)\n",
    "var_uc = np.var(delta_uc)\n",
    "print(f'var_c: {var_c}')\n",
    "print(f'var_uc: {var_uc}')\n",
    "print(f'var_c < var_uc ? {var_c < var_uc}')"
   ]
  },
  {
   "cell_type": "code",
   "execution_count": 34,
   "metadata": {},
   "outputs": [],
   "source": [
    "num_success = np.sum((np.abs(delta_c) <= np.abs(delta_uc)))"
   ]
  },
  {
   "cell_type": "code",
   "execution_count": 35,
   "metadata": {},
   "outputs": [
    {
     "name": "stdout",
     "output_type": "stream",
     "text": [
      "num_success: 5\n",
      "num_runs: 8\n",
      "interval: (0.289526098053033, 0.960473901946967)\n"
     ]
    }
   ],
   "source": [
    "print('num_success:', num_success)\n",
    "print('num_runs:', num_runs)\n",
    "interval = proportion_confint(num_success, num_runs)\n",
    "print('interval:', interval)"
   ]
  },
  {
   "cell_type": "code",
   "execution_count": 36,
   "metadata": {},
   "outputs": [
    {
     "name": "stdout",
     "output_type": "stream",
     "text": [
      "Failed!\n"
     ]
    }
   ],
   "source": [
    "if interval[0] < 0.5 < interval[1]:\n",
    "    print('Failed!')\n",
    "else:\n",
    "    print('Success!')"
   ]
  },
  {
   "cell_type": "code",
   "execution_count": null,
   "metadata": {},
   "outputs": [],
   "source": []
  }
 ],
 "metadata": {
  "kernelspec": {
   "display_name": "effect_size_variance_env",
   "language": "python",
   "name": "effect_size_variance_env"
  },
  "language_info": {
   "codemirror_mode": {
    "name": "ipython",
    "version": 3
   },
   "file_extension": ".py",
   "mimetype": "text/x-python",
   "name": "python",
   "nbconvert_exporter": "python",
   "pygments_lexer": "ipython3",
   "version": "3.6.3"
  }
 },
 "nbformat": 4,
 "nbformat_minor": 4
}
