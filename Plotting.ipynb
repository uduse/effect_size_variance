{
 "cells": [
  {
   "cell_type": "code",
   "execution_count": 1,
   "metadata": {},
   "outputs": [],
   "source": [
    "import pandas as pd\n",
    "import numpy as np\n",
    "import os\n",
    "import torch\n",
    "import warnings\n",
    "warnings.filterwarnings(\"ignore\")\n",
    "\n",
    "import seaborn as sns\n",
    "\n",
    "sns.set_style(\"white\", {\n",
    "    'axes.grid' : False\n",
    "})\n",
    "\n",
    "import numpy as np\n",
    "import matplotlib.pyplot as plt\n",
    "import glob"
   ]
  },
  {
   "cell_type": "code",
   "execution_count": 2,
   "metadata": {},
   "outputs": [
    {
     "data": {
      "text/plain": [
       "('1.7.0', '1.1.4', '0.11.0')"
      ]
     },
     "execution_count": 2,
     "metadata": {},
     "output_type": "execute_result"
    }
   ],
   "source": [
    "torch.__version__, pd.__version__, sns.__version__"
   ]
  },
  {
   "cell_type": "code",
   "execution_count": 3,
   "metadata": {},
   "outputs": [],
   "source": [
    "exp_name = \"test_ppo_lunar\"\n",
    "rootdir = f\"spinningup-master/data/{exp_name}/\"\n",
    "# data_path = \"/Users/saipiens/repos/effect_size_variance/toy_example/data/\"\n",
    "NUM_RUNS = 250\n",
    "num_sub_runs = [3, 5, 10, 30, 50, 100, 150, 200, 250]\n",
    "N_COLS = 1\n",
    "N_ROWS = len(num_sub_runs)\n",
    "\n",
    "for run in range(NUM_RUNS):\n",
    "    exp_suffix = f\"{exp_name}_s{run}\"\n",
    "    data = pd.read_csv(os.path.join(rootdir, exp_suffix, 'progress.txt'), sep=\"\\t\", header=0)\n",
    "    checkpoint = data.TotalEnvInteracts[0]\n",
    "    num_epochs = data.Epoch\n",
    "    num_epochs = len(num_epochs)\n",
    "    num_steps = checkpoint*num_epochs\n",
    "    avgrets = data.AverageEpRet.to_numpy()\n",
    "    \n",
    "    data = np.zeros((2, len(avgrets)))\n",
    "    data[0] = range(checkpoint, num_steps + 1, checkpoint)\n",
    "    data[1] = avgrets"
   ]
  },
  {
   "cell_type": "code",
   "execution_count": 4,
   "metadata": {},
   "outputs": [],
   "source": [
    "auc_runs = np.mean(data, axis=1)\n",
    "end_runs = np.mean(data[:, -1:], axis=1)\n",
    "start_runs = np.mean(data[:, :1], axis=1)"
   ]
  },
  {
   "cell_type": "code",
   "execution_count": 6,
   "metadata": {
    "scrolled": false
   },
   "outputs": [
    {
     "name": "stdout",
     "output_type": "stream",
     "text": [
      "[4.000000e+05 9.045256e+00]\n",
      "[4.000000e+05 9.045256e+00]\n"
     ]
    },
    {
     "data": {
      "image/png": "[encoded data removed]",
      "text/plain": [
       "<Figure size 480x240 with 2 Axes>"
      ]
     },
     "metadata": {},
     "output_type": "display_data"
    }
   ],
   "source": [
    "fig, axes = plt.subplots(\n",
    "        nrows=N_ROWS,\n",
    "        ncols=N_COLS,\n",
    "        sharex=True,\n",
    "        sharey=True,\n",
    "        figsize=(6*N_COLS, 1.5*N_ROWS),\n",
    "        dpi=80\n",
    "    )\n",
    "fig.text(0.5, 0.1, 'Reward', ha='center')\n",
    "fig.text(0.04, 0.5, 'Runs', va='center', rotation='vertical')\n",
    "plt.subplots_adjust(hspace=0)\n",
    "\n",
    "for i, j, ax in zip(range(N_ROWS*N_COLS), reversed(num_sub_runs), axes.flat):\n",
    "    ax.set(ylabel = f\"{j}\")\n",
    "    ax.set_yticklabels([])\n",
    "    # Hide the right and top spines\n",
    "    if i == 0:\n",
    "        ax.spines['top'].set_visible(True)\n",
    "    else:\n",
    "        ax.spines['top'].set_visible(False)\n",
    "    if i == N_ROWS-1:\n",
    "        ax.spines['bottom'].set_visible(True)\n",
    "    else:\n",
    "        ax.spines['bottom'].set_visible(False)\n",
    "    sns.histplot(end_runs[:j], kde=True, stat=\"density\", fill=True, ax=ax, color=\"blue\")\n",
    "    sns.kdeplot(end_runs, ax=ax, color=\"black\")\n",
    "plt.show()"
   ]
  },
  {
   "cell_type": "code",
   "execution_count": null,
   "metadata": {},
   "outputs": [],
   "source": []
  }
 ],
 "metadata": {
  "kernelspec": {
   "display_name": "Python 3",
   "language": "python",
   "name": "python3"
  },
  "language_info": {
   "codemirror_mode": {
    "name": "ipython",
    "version": 3
   },
   "file_extension": ".py",
   "mimetype": "text/x-python",
   "name": "python",
   "nbconvert_exporter": "python",
   "pygments_lexer": "ipython3",
   "version": "3.8.5"
  }
 },
 "nbformat": 4,
 "nbformat_minor": 4
}
